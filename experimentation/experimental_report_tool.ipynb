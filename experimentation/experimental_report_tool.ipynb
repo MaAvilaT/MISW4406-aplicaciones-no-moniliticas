{
 "cells": [
  {
   "metadata": {
    "ExecuteTime": {
     "end_time": "2025-03-11T03:32:43.744275Z",
     "start_time": "2025-03-11T03:32:43.734848Z"
    }
   },
   "cell_type": "code",
   "source": [
    "import datetime\n",
    "import json\n",
    "import random\n",
    "\n",
    "\n",
    "def generate_random_clinical_data(num_records=100, seed=None):\n",
    "    \"\"\"\n",
    "    Generate random clinical history data in JSON format.\n",
    "\n",
    "    Args:\n",
    "        num_records (int): Number of records to generate\n",
    "        seed (int): Optional random seed for reproducibility\n",
    "\n",
    "    Returns:\n",
    "        list: List of dictionaries containing random clinical data\n",
    "    \"\"\"\n",
    "    if seed is not None:\n",
    "        random.seed(seed)\n",
    "\n",
    "    records = []\n",
    "\n",
    "    # Lists of possible values for randomization\n",
    "    test_types = [\n",
    "        \"Blood Analysis\", \"Urinalysis\", \"Lipid Panel\", \"Metabolic Panel\",\n",
    "        \"Complete Blood Count\", \"Liver Function\", \"Thyroid Panel\",\n",
    "        \"Hormone Panel\", \"Vitamin D Screening\", \"Iron Panel\",\n",
    "        \"Coagulation Panel\", \"Electrolyte Panel\", \"Toxicology Screening\"\n",
    "    ]\n",
    "\n",
    "    doctors = [\n",
    "        \"Dr. Smith\", \"Dr. Johnson\", \"Dr. Williams\", \"Dr. Brown\", \"Dr. Jones\",\n",
    "        \"Dr. Garcia\", \"Dr. Miller\", \"Dr. Davis\", \"Dr. Rodriguez\", \"Dr. Martinez\",\n",
    "        \"Dr. Hernandez\", \"Dr. Lopez\", \"Dr. Gonzalez\", \"Dr. Wilson\", \"Dr. Anderson\"\n",
    "    ]\n",
    "\n",
    "    blood_tests = {\n",
    "        \"hemoglobin\": {\"unit\": \"g/dL\", \"range\": (10.0, 18.0), \"reference_range\": \"13.5-17.5\"},\n",
    "        \"white_blood_cells\": {\"unit\": \"cells/µL\", \"range\": (3500, 15000), \"reference_range\": \"4500-11000\"},\n",
    "        \"platelets\": {\"unit\": \"platelets/µL\", \"range\": (100000, 450000), \"reference_range\": \"150000-450000\"},\n",
    "        \"red_blood_cells\": {\"unit\": \"million cells/µL\", \"range\": (3.8, 6.0), \"reference_range\": \"4.5-5.9\"},\n",
    "        \"hematocrit\": {\"unit\": \"%\", \"range\": (35.0, 50.0), \"reference_range\": \"38.3-48.6\"},\n",
    "        \"mean_corpuscular_volume\": {\"unit\": \"fL\", \"range\": (75.0, 100.0), \"reference_range\": \"80-100\"},\n",
    "        \"mean_corpuscular_hemoglobin\": {\"unit\": \"pg\", \"range\": (25.0, 35.0), \"reference_range\": \"27-33\"}\n",
    "    }\n",
    "\n",
    "    chemistry_tests = {\n",
    "        \"glucose\": {\"unit\": \"mg/dL\", \"range\": (70, 140), \"reference_range\": \"70-99\"},\n",
    "        \"creatinine\": {\"unit\": \"mg/dL\", \"range\": (0.6, 1.5), \"reference_range\": \"0.7-1.3\"},\n",
    "        \"bun\": {\"unit\": \"mg/dL\", \"range\": (7, 25), \"reference_range\": \"8-20\"},\n",
    "        \"sodium\": {\"unit\": \"mmol/L\", \"range\": (130, 150), \"reference_range\": \"135-145\"},\n",
    "        \"potassium\": {\"unit\": \"mmol/L\", \"range\": (3.0, 5.5), \"reference_range\": \"3.5-5.0\"},\n",
    "        \"chloride\": {\"unit\": \"mmol/L\", \"range\": (95, 110), \"reference_range\": \"96-106\"},\n",
    "        \"calcium\": {\"unit\": \"mg/dL\", \"range\": (8.0, 11.0), \"reference_range\": \"8.5-10.5\"}\n",
    "    }\n",
    "\n",
    "    lipid_tests = {\n",
    "        \"total_cholesterol\": {\"unit\": \"mg/dL\", \"range\": (120, 300), \"reference_range\": \"<200\"},\n",
    "        \"triglycerides\": {\"unit\": \"mg/dL\", \"range\": (50, 300), \"reference_range\": \"<150\"},\n",
    "        \"hdl_cholesterol\": {\"unit\": \"mg/dL\", \"range\": (30, 90), \"reference_range\": \">40\"},\n",
    "        \"ldl_cholesterol\": {\"unit\": \"mg/dL\", \"range\": (70, 200), \"reference_range\": \"<100\"}\n",
    "    }\n",
    "\n",
    "    urine_tests = {\n",
    "        \"specific_gravity\": {\"unit\": \"\", \"range\": (1.005, 1.030), \"reference_range\": \"1.005-1.030\"},\n",
    "        \"ph\": {\"unit\": \"\", \"range\": (4.5, 8.0), \"reference_range\": \"4.5-8.0\"},\n",
    "        \"glucose\": {\"unit\": \"mg/dL\", \"range\": (0, 15), \"reference_range\": \"Negative\"},\n",
    "        \"protein\": {\"unit\": \"mg/dL\", \"range\": (0, 20), \"reference_range\": \"Negative\"},\n",
    "        \"ketones\": {\"unit\": \"mg/dL\", \"range\": (0, 10), \"reference_range\": \"Negative\"},\n",
    "        \"blood\": {\"unit\": \"cells/hpf\", \"range\": (0, 5), \"reference_range\": \"Negative\"}\n",
    "    }\n",
    "\n",
    "    all_test_categories = [blood_tests, chemistry_tests, lipid_tests, urine_tests]\n",
    "\n",
    "    conclusion_normal = [\n",
    "        \"All values within normal range.\",\n",
    "        \"Results indicate normal function.\",\n",
    "        \"No significant abnormalities detected.\",\n",
    "        \"Values are within expected parameters.\",\n",
    "        \"Test results show normal health indicators.\"\n",
    "    ]\n",
    "\n",
    "    conclusion_abnormal = [\n",
    "        \"Some values outside reference range, follow-up recommended.\",\n",
    "        \"Results indicate potential issues requiring further investigation.\",\n",
    "        \"Minor abnormalities detected, monitoring advised.\",\n",
    "        \"Several values outside normal parameters, consultation recommended.\",\n",
    "        \"Test results suggest need for additional testing.\"\n",
    "    ]\n",
    "\n",
    "    for _ in range(num_records):\n",
    "        patient_uuid = \"pat_789012\"  # Fixed as requested\n",
    "\n",
    "        days_ago = random.randint(1, 730)\n",
    "        test_date = (datetime.datetime.now() - datetime.timedelta(days=days_ago)).strftime(\"%Y-%m-%dT%H:%M:%SZ\")\n",
    "\n",
    "        test_type = random.choice(test_types)\n",
    "\n",
    "        num_categories = random.randint(1, 3)\n",
    "        selected_categories = random.sample(all_test_categories, num_categories)\n",
    "\n",
    "        results = {}\n",
    "        abnormal_found = False\n",
    "\n",
    "        for category in selected_categories:\n",
    "            num_tests = random.randint(1, min(5, len(category)))\n",
    "            selected_tests = random.sample(list(category.keys()), num_tests)\n",
    "\n",
    "            for test in selected_tests:\n",
    "                test_info = category[test]\n",
    "                value = round(random.uniform(*test_info[\"range\"]), 1)\n",
    "\n",
    "                if random.random() < 0.2:  # 20% chance of abnormal value\n",
    "                    if random.random() < 0.5:\n",
    "                        value = round(test_info[\"range\"][0] * 0.8, 1)  # Below range\n",
    "                    else:\n",
    "                        value = round(test_info[\"range\"][1] * 1.2, 1)  # Above range\n",
    "                    abnormal_found = True\n",
    "\n",
    "                results[test] = {\n",
    "                    \"value\": value,\n",
    "                    \"unit\": test_info[\"unit\"],\n",
    "                    \"reference_range\": test_info[\"reference_range\"]\n",
    "                }\n",
    "\n",
    "        if abnormal_found:\n",
    "            conclusion = random.choice(conclusion_abnormal)\n",
    "        else:\n",
    "            conclusion = random.choice(conclusion_normal)\n",
    "\n",
    "        record = {\n",
    "            \"patient_uuid\": patient_uuid,\n",
    "            \"test_info\": {\n",
    "                \"test_type\": test_type,\n",
    "                \"test_date\": test_date,\n",
    "                \"collected_by\": random.choice(doctors)\n",
    "            },\n",
    "            \"results\": results,\n",
    "            \"conclusions\": conclusion\n",
    "        }\n",
    "\n",
    "        if random.random() < 0.3:\n",
    "            record[\"test_info\"][\"location\"] = random.choice([\n",
    "                \"Main Hospital\", \"North Clinic\", \"South Wing Lab\",\n",
    "                \"East Medical Center\", \"West Health Pavilion\"\n",
    "            ])\n",
    "\n",
    "        if random.random() < 0.3:\n",
    "            record[\"test_info\"][\"order_number\"] = f\"ORD-{random.randint(10000, 99999)}\"\n",
    "\n",
    "        if random.random() < 0.4:\n",
    "            record[\"notes\"] = random.choice([\n",
    "                \"Patient fasting for 12 hours prior to test.\",\n",
    "                \"Patient reported feeling well at time of collection.\",\n",
    "                \"Follow-up recommended in 6 months.\",\n",
    "                \"Compared with previous results from last visit.\",\n",
    "                \"Patient on medication that may affect results.\"\n",
    "            ])\n",
    "\n",
    "        records.append(record)\n",
    "\n",
    "    return records"
   ],
   "id": "a7971088204fed1e",
   "outputs": [],
   "execution_count": 22
  },
  {
   "metadata": {
    "ExecuteTime": {
     "end_time": "2025-03-11T03:32:45.609874Z",
     "start_time": "2025-03-11T03:32:45.605458Z"
    }
   },
   "cell_type": "code",
   "source": [
    "processing_batch = generate_random_clinical_data(num_records=1)\n",
    "\n",
    "print(json.dumps(processing_batch, indent=2))"
   ],
   "id": "5d4c6c63272d3b1e",
   "outputs": [
    {
     "name": "stdout",
     "output_type": "stream",
     "text": [
      "[\n",
      "  {\n",
      "    \"patient_uuid\": \"pat_789012\",\n",
      "    \"test_info\": {\n",
      "      \"test_type\": \"Electrolyte Panel\",\n",
      "      \"test_date\": \"2024-06-12T22:32:45Z\",\n",
      "      \"collected_by\": \"Dr. Johnson\",\n",
      "      \"order_number\": \"ORD-97405\"\n",
      "    },\n",
      "    \"results\": {\n",
      "      \"triglycerides\": {\n",
      "        \"value\": 147.5,\n",
      "        \"unit\": \"mg/dL\",\n",
      "        \"reference_range\": \"<150\"\n",
      "      },\n",
      "      \"ldl_cholesterol\": {\n",
      "        \"value\": 144.1,\n",
      "        \"unit\": \"mg/dL\",\n",
      "        \"reference_range\": \"<100\"\n",
      "      },\n",
      "      \"hdl_cholesterol\": {\n",
      "        \"value\": 108.0,\n",
      "        \"unit\": \"mg/dL\",\n",
      "        \"reference_range\": \">40\"\n",
      "      },\n",
      "      \"mean_corpuscular_hemoglobin\": {\n",
      "        \"value\": 20.0,\n",
      "        \"unit\": \"pg\",\n",
      "        \"reference_range\": \"27-33\"\n",
      "      }\n",
      "    },\n",
      "    \"conclusions\": \"Several values outside normal parameters, consultation recommended.\",\n",
      "    \"notes\": \"Patient on medication that may affect results.\"\n",
      "  }\n",
      "]\n"
     ]
    }
   ],
   "execution_count": 23
  },
  {
   "metadata": {},
   "cell_type": "markdown",
   "source": "# Initial test to determine cluster accessibility and correct processing",
   "id": "c9e09cfb9f68c9f"
  },
  {
   "metadata": {
    "collapsed": true,
    "ExecuteTime": {
     "end_time": "2025-03-11T03:37:04.738564Z",
     "start_time": "2025-03-11T03:37:04.597142Z"
    }
   },
   "cell_type": "code",
   "source": [
    "import subprocess\n",
    "import requests\n",
    "\n",
    "#ENDPOINT_URL = subprocess.check_output([\"minikube\", \"service\", \"msvc-integrator-service\", \"--url\"]).decode(\"utf-8\").strip()\n",
    "\n",
    "ENDPOINT_URL = 'http://34.160.104.82'\n",
    "\n",
    "LAB_ID = 'hands_on_hacking'\n",
    "LAB_TOKEN = 'hickey_&_arcuri'\n",
    "\n",
    "response__ = requests.post(f'{ENDPOINT_URL}/api/lab-results', data=json.dumps({\n",
    "    'documents_batch': processing_batch\n",
    "}), headers={\n",
    "    'Content-Type': 'application/json',\n",
    "    'lab_id': LAB_ID,\n",
    "    'lab_token': LAB_TOKEN,\n",
    "},\n",
    "verify=False)"
   ],
   "id": "initial_id",
   "outputs": [],
   "execution_count": 32
  },
  {
   "metadata": {
    "ExecuteTime": {
     "end_time": "2025-03-11T03:37:12.108327Z",
     "start_time": "2025-03-11T03:37:12.105934Z"
    }
   },
   "cell_type": "code",
   "source": [
    "print(f'method: {response__.request.method}, response url: {response__.url}\\n')\n",
    "print(f'request headers: {response__.request.headers}\\n')\n",
    "print(f'response headers: {response__.headers}\\n')\n",
    "print(f'response content: {response__.content}\\n')\n",
    "print(f'total elapsed seconds: {response__.elapsed.total_seconds()}\\n')"
   ],
   "id": "cebe1f2dc808d0f6",
   "outputs": [
    {
     "name": "stdout",
     "output_type": "stream",
     "text": [
      "method: POST, response url: http://34.160.104.82/api/lab-results\n",
      "\n",
      "request headers: {'User-Agent': 'python-requests/2.32.3', 'Accept-Encoding': 'gzip, deflate', 'Accept': '*/*', 'Connection': 'keep-alive', 'Content-Type': 'application/json', 'lab_id': 'hands_on_hacking', 'lab_token': 'hickey_&_arcuri', 'Content-Length': '687'}\n",
      "\n",
      "response headers: {'Server': 'gunicorn', 'Date': 'Tue, 11 Mar 2025 03:37:04 GMT', 'Content-Type': 'application/json', 'Content-Length': '137', 'X-Trace-Id': '0409d035-fa16-4927-aaac-22d95566328f', 'Via': '1.1 google'}\n",
      "\n",
      "response content: b'{\"details\":\"message_id::f512a3a0-197b-4eaa-a096-d6a3d8e82424\",\"message\":\"lab results batch sent to processing queue\",\"status\":\"success\"}\\n'\n",
      "\n",
      "total elapsed seconds: 0.138414\n",
      "\n"
     ]
    }
   ],
   "execution_count": 33
  },
  {
   "metadata": {},
   "cell_type": "markdown",
   "source": "# Single Batch Testing - 10, 20, 30, 40, 50, 60, 70, 80, 90, 100, 200, 300, 400, 500, 1_000 Documents",
   "id": "8ccf1c0150d400de"
  },
  {
   "metadata": {
    "ExecuteTime": {
     "end_time": "2025-03-11T03:37:24.351194Z",
     "start_time": "2025-03-11T03:37:24.348044Z"
    }
   },
   "cell_type": "code",
   "source": [
    "def perform_request(num_records, sleep_time=30):\n",
    "    processing_batch__ = generate_random_clinical_data(num_records=num_records)\n",
    "\n",
    "    res = requests.post(\n",
    "        f'{ENDPOINT_URL}/api/lab-results',\n",
    "        data=json.dumps({'documents_batch': processing_batch__}),\n",
    "        headers={\n",
    "            'Content-Type': 'application/json',\n",
    "            'lab_id': LAB_ID,\n",
    "            'lab_token': LAB_TOKEN,\n",
    "        }\n",
    "    )\n",
    "\n",
    "    time.sleep(sleep_time)\n",
    "\n",
    "    return res"
   ],
   "id": "deba038948d00371",
   "outputs": [],
   "execution_count": 34
  },
  {
   "metadata": {
    "ExecuteTime": {
     "end_time": "2025-03-11T03:42:50.371816Z",
     "start_time": "2025-03-11T03:37:32.373633Z"
    }
   },
   "cell_type": "code",
   "source": [
    "import time\n",
    "\n",
    "response_times: list = []\n",
    "\n",
    "x = [10, 20, 30, 40, 50, 60, 70, 80, 90, 100, 200, 300, 400, 500, 1_000]\n",
    "for records, i in zip(x, range(len(x))):\n",
    "    response = perform_request(num_records=records, sleep_time=i * 3)\n",
    "\n",
    "    response_times.append(response.elapsed.total_seconds())\n",
    "\n",
    "print(f'response times: {response_times}')\n",
    "print(f'avg response times: {sum(response_times) / len(response_times)}')"
   ],
   "id": "90eae0fba4129532",
   "outputs": [
    {
     "name": "stdout",
     "output_type": "stream",
     "text": [
      "response times: [0.165263, 0.149856, 0.141632, 0.148494, 0.151043, 0.161463, 0.154987, 0.160374, 0.164487, 0.151518, 0.16437, 0.213433, 0.214474, 0.323897, 0.430453]\n",
      "avg response times: 0.19304960000000002\n"
     ]
    }
   ],
   "execution_count": 35
  },
  {
   "metadata": {
    "ExecuteTime": {
     "end_time": "2025-03-11T03:43:14.344855Z",
     "start_time": "2025-03-11T03:43:14.292226Z"
    }
   },
   "cell_type": "code",
   "source": [
    "import matplotlib.pyplot as plt\n",
    "\n",
    "plt.plot(x, response_times, marker='o', linestyle='-', color='b')\n",
    "\n",
    "plt.xlabel('number of requests')\n",
    "plt.ylabel('time to complete in seconds')\n",
    "plt.title('Plot of Requests vs Seconds')\n",
    "\n",
    "plt.show()"
   ],
   "id": "71d133655b2659c2",
   "outputs": [
    {
     "data": {
      "text/plain": [
       "<Figure size 640x480 with 1 Axes>"
      ],
      "image/png": "[encoded data removed]"
     },
     "metadata": {},
     "output_type": "display_data"
    }
   ],
   "execution_count": 36
  }
 ],
 "metadata": {
  "kernelspec": {
   "display_name": "Python 3",
   "language": "python",
   "name": "python3"
  },
  "language_info": {
   "codemirror_mode": {
    "name": "ipython",
    "version": 2
   },
   "file_extension": ".py",
   "mimetype": "text/x-python",
   "name": "python",
   "nbconvert_exporter": "python",
   "pygments_lexer": "ipython2",
   "version": "2.7.6"
  }
 },
 "nbformat": 4,
 "nbformat_minor": 5
}
